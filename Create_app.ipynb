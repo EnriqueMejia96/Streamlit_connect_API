{
  "cells": [
    {
      "cell_type": "code",
      "execution_count": 1,
      "metadata": {
        "colab": {
          "base_uri": "https://localhost:8080/"
        },
        "id": "VBxm68xmgill",
        "outputId": "15dc440a-be3e-469b-d714-a6e423f4391a"
      },
      "outputs": [
        {
          "output_type": "stream",
          "name": "stdout",
          "text": [
            "Cloning into 'Streamlit_connect_API'...\n",
            "remote: Enumerating objects: 7, done.\u001b[K\n",
            "remote: Counting objects: 100% (7/7), done.\u001b[K\n",
            "remote: Compressing objects: 100% (5/5), done.\u001b[K\n",
            "remote: Total 7 (delta 0), reused 4 (delta 0), pack-reused 0\u001b[K\n",
            "Receiving objects: 100% (7/7), done.\n"
          ]
        }
      ],
      "source": [
        "!git clone https://github.com/EnriqueMejia96/Streamlit_connect_API.git"
      ]
    },
    {
      "cell_type": "code",
      "execution_count": 2,
      "metadata": {
        "colab": {
          "base_uri": "https://localhost:8080/"
        },
        "id": "Q9nlcp-kmBcC",
        "outputId": "e9209135-bf65-4e66-f85f-528e498254b2"
      },
      "outputs": [
        {
          "output_type": "stream",
          "name": "stdout",
          "text": [
            "/content/Streamlit_connect_API\n"
          ]
        }
      ],
      "source": [
        "%cd Streamlit_connect_API"
      ]
    },
    {
      "cell_type": "code",
      "execution_count": 3,
      "metadata": {
        "colab": {
          "base_uri": "https://localhost:8080/"
        },
        "id": "LNh5ScGhmE3K",
        "outputId": "347c5982-76bb-4ade-d7ac-d662cb5a61ad"
      },
      "outputs": [
        {
          "output_type": "stream",
          "name": "stdout",
          "text": [
            "total 28\n",
            "drwxr-xr-x 3 root root 4096 Jan 22 00:55 .\n",
            "drwxr-xr-x 1 root root 4096 Jan 22 00:55 ..\n",
            "-rw-r--r-- 1 root root  862 Jan 22 00:55 app.py\n",
            "-rw-r--r-- 1 root root 5650 Jan 22 00:55 Create_app.ipynb\n",
            "drwxr-xr-x 8 root root 4096 Jan 22 00:55 .git\n",
            "-rw-r--r-- 1 root root   23 Jan 22 00:55 README.md\n"
          ]
        }
      ],
      "source": [
        "!ls -la"
      ]
    },
    {
      "cell_type": "markdown",
      "metadata": {
        "id": "zwvEI5c5fdd6"
      },
      "source": [
        "# 0. Instalación de librerías"
      ]
    },
    {
      "cell_type": "code",
      "execution_count": null,
      "metadata": {
        "id": "56NzsFMWE8dr"
      },
      "outputs": [],
      "source": [
        "# !pip install streamlit\n",
        "# !pip install pyngrok==4.1.1"
      ]
    },
    {
      "cell_type": "markdown",
      "metadata": {
        "id": "gwj-zxtmk-zf"
      },
      "source": [
        "# 1. Ejecutar Streamlit App"
      ]
    },
    {
      "cell_type": "code",
      "execution_count": 5,
      "metadata": {
        "colab": {
          "base_uri": "https://localhost:8080/"
        },
        "id": "z9xAs5jSQJRE",
        "outputId": "43ff1aa0-c987-493e-94ef-d99f86c0428f"
      },
      "outputs": [
        {
          "output_type": "stream",
          "name": "stdout",
          "text": [
            "Authtoken saved to configuration file: /root/.ngrok2/ngrok.yml\n"
          ]
        }
      ],
      "source": [
        "from google.colab import userdata\n",
        "from pyngrok import ngrok\n",
        "ngrok_token = userdata.get('ngrok_token')\n",
        "!ngrok authtoken $ngrok_token"
      ]
    },
    {
      "cell_type": "code",
      "execution_count": 6,
      "metadata": {
        "colab": {
          "base_uri": "https://localhost:8080/",
          "height": 53
        },
        "id": "pi5GqYjBOnL6",
        "outputId": "717d4389-d20b-42b1-b1d2-ee18c217473c"
      },
      "outputs": [
        {
          "output_type": "stream",
          "name": "stdout",
          "text": [
            "nohup: appending output to 'nohup.out'\n"
          ]
        },
        {
          "output_type": "execute_result",
          "data": {
            "text/plain": [
              "'http://7a78-35-237-197-245.ngrok-free.app'"
            ],
            "application/vnd.google.colaboratory.intrinsic+json": {
              "type": "string"
            }
          },
          "metadata": {},
          "execution_count": 6
        }
      ],
      "source": [
        "!nohup streamlit run app.py &\n",
        "public_url = ngrok.connect(port='8501')\n",
        "public_url"
      ]
    },
    {
      "cell_type": "code",
      "execution_count": null,
      "metadata": {
        "id": "YTfemLpjQz_Z"
      },
      "outputs": [],
      "source": [
        "# Terminate all active ngrok tunnels\n",
        "ngrok.kill()"
      ]
    },
    {
      "cell_type": "code",
      "execution_count": null,
      "metadata": {
        "id": "Naba_SX5n1e-"
      },
      "outputs": [],
      "source": []
    }
  ],
  "metadata": {
    "colab": {
      "provenance": []
    },
    "kernelspec": {
      "display_name": "Python 3",
      "name": "python3"
    },
    "language_info": {
      "name": "python"
    }
  },
  "nbformat": 4,
  "nbformat_minor": 0
}