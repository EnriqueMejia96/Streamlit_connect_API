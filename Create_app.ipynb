{
  "cells": [
    {
      "cell_type": "code",
      "execution_count": null,
      "metadata": {
        "colab": {
          "base_uri": "https://localhost:8080/"
        },
        "id": "VBxm68xmgill",
        "outputId": "0b2b66d9-19fc-4de5-81b6-8992d3b36ea0"
      },
      "outputs": [
        {
          "name": "stdout",
          "output_type": "stream",
          "text": [
            "Cloning into 'chatbot_qa'...\n",
            "remote: Enumerating objects: 11, done.\u001b[K\n",
            "remote: Counting objects: 100% (11/11), done.\u001b[K\n",
            "remote: Compressing objects: 100% (8/8), done.\u001b[K\n",
            "remote: Total 11 (delta 0), reused 0 (delta 0), pack-reused 0\u001b[K\n",
            "Receiving objects: 100% (11/11), 745.27 KiB | 5.65 MiB/s, done.\n"
          ]
        }
      ],
      "source": [
        "!git clone https://github.com/EnriqueMejia96/Streamlit_connect_API.git"
      ]
    },
    {
      "cell_type": "code",
      "execution_count": 1,
      "metadata": {
        "colab": {
          "base_uri": "https://localhost:8080/"
        },
        "id": "Q9nlcp-kmBcC",
        "outputId": "0ffabd21-b2ef-4e7b-9b38-87478bd6b2fd"
      },
      "outputs": [
        {
          "name": "stdout",
          "output_type": "stream",
          "text": [
            "/content/chatbot_qa\n"
          ]
        }
      ],
      "source": [
        "%cd Streamlit_connect_API"
      ]
    },
    {
      "cell_type": "code",
      "execution_count": 2,
      "metadata": {
        "colab": {
          "base_uri": "https://localhost:8080/"
        },
        "id": "LNh5ScGhmE3K",
        "outputId": "14ad51e0-218b-4b60-e867-e79a1f74ad01"
      },
      "outputs": [
        {
          "name": "stdout",
          "output_type": "stream",
          "text": [
            "total 956\n",
            "drwxr-xr-x 4 root root   4096 Jan 11 22:14 .\n",
            "drwxr-xr-x 1 root root   4096 Jan 11 22:03 ..\n",
            "-rw-r--r-- 1 root root   2832 Jan 11 21:51 app.py\n",
            "-rw-r--r-- 1 root root     76 Jan 11 22:03 credentials.json\n",
            "-rw-r--r-- 1 root root   3921 Jan 11 21:51 dmc_logo.jpg\n",
            "drwxr-xr-x 8 root root   4096 Jan 11 21:51 .git\n",
            "-rw-r--r-- 1 root root  50192 Jan 11 21:51 Lab_LLM_intro.ipynb\n",
            "-rw-r--r-- 1 root root 885970 Jan 11 21:51 llm_doc.pdf\n",
            "drwxr-xr-x 2 root root   4096 Jan 11 22:14 __pycache__\n",
            "-rw-r--r-- 1 root root     12 Jan 11 21:51 README.md\n",
            "-rw-r--r-- 1 root root   1822 Jan 11 21:51 utils.py\n"
          ]
        }
      ],
      "source": [
        "!ls -la"
      ]
    },
    {
      "cell_type": "markdown",
      "metadata": {
        "id": "zwvEI5c5fdd6"
      },
      "source": [
        "# 0. Instalación de librerías"
      ]
    },
    {
      "cell_type": "code",
      "execution_count": null,
      "metadata": {
        "id": "56NzsFMWE8dr"
      },
      "outputs": [],
      "source": [
        "# !pip install streamlit\n",
        "# !pip install pyngrok==4.1.1"
      ]
    },
    {
      "cell_type": "markdown",
      "metadata": {
        "id": "gwj-zxtmk-zf"
      },
      "source": [
        "# 1. Ejecutar Streamlit App"
      ]
    },
    {
      "cell_type": "code",
      "execution_count": 24,
      "metadata": {
        "colab": {
          "base_uri": "https://localhost:8080/"
        },
        "id": "z9xAs5jSQJRE",
        "outputId": "c5d8b72e-ed81-44c0-e0f2-82ff1a4a9863"
      },
      "outputs": [
        {
          "name": "stdout",
          "output_type": "stream",
          "text": [
            "Authtoken saved to configuration file: /root/.ngrok2/ngrok.yml\n"
          ]
        }
      ],
      "source": [
        "from google.colab import userdata\n",
        "from pyngrok import ngrok\n",
        "ngrok_token = userdata.get('ngrok_token')\n",
        "!ngrok authtoken $ngrok_token"
      ]
    },
    {
      "cell_type": "code",
      "execution_count": 26,
      "metadata": {
        "colab": {
          "base_uri": "https://localhost:8080/",
          "height": 53
        },
        "id": "pi5GqYjBOnL6",
        "outputId": "8281143f-5f76-4e92-8176-ffad58bea448"
      },
      "outputs": [
        {
          "name": "stdout",
          "output_type": "stream",
          "text": [
            "nohup: appending output to 'nohup.out'\n"
          ]
        },
        {
          "data": {
            "application/vnd.google.colaboratory.intrinsic+json": {
              "type": "string"
            },
            "text/plain": [
              "'http://6f19-34-68-3-131.ngrok-free.app'"
            ]
          },
          "execution_count": 26,
          "metadata": {},
          "output_type": "execute_result"
        }
      ],
      "source": [
        "!nohup streamlit run app.py &\n",
        "public_url = ngrok.connect(port='8501')\n",
        "public_url"
      ]
    },
    {
      "cell_type": "code",
      "execution_count": 25,
      "metadata": {
        "id": "YTfemLpjQz_Z"
      },
      "outputs": [],
      "source": [
        "# Terminate all active ngrok tunnels\n",
        "ngrok.kill()"
      ]
    },
    {
      "cell_type": "code",
      "execution_count": null,
      "metadata": {
        "id": "Naba_SX5n1e-"
      },
      "outputs": [],
      "source": []
    }
  ],
  "metadata": {
    "colab": {
      "provenance": []
    },
    "kernelspec": {
      "display_name": "Python 3",
      "name": "python3"
    },
    "language_info": {
      "name": "python"
    }
  },
  "nbformat": 4,
  "nbformat_minor": 0
}
